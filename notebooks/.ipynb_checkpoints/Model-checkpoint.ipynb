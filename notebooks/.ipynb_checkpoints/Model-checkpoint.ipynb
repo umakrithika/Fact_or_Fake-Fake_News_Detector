{
 "cells": [
  {
   "cell_type": "markdown",
   "metadata": {},
   "source": [
    "# Modelling"
   ]
  },
  {
   "cell_type": "markdown",
   "metadata": {},
   "source": [
    "##### Import necessary libraries"
   ]
  },
  {
   "cell_type": "code",
   "execution_count": 1,
   "metadata": {
    "ExecuteTime": {
     "end_time": "2019-06-27T18:41:57.707072Z",
     "start_time": "2019-06-27T18:41:56.135272Z"
    }
   },
   "outputs": [],
   "source": [
    "import pandas as pd\n",
    "import numpy as np\n",
    "import pickle\n",
    "import sys\n",
    "\n",
    "from utils import pickle_to, pickle_from, plot_cmat, get_accuracy\n",
    "\n",
    "from sklearn.feature_extraction.text import CountVectorizer\n",
    "\n",
    "from sklearn.metrics import confusion_matrix\n",
    "from sklearn import metrics\n",
    "from sklearn.model_selection import cross_val_score\n",
    "from sklearn.linear_model import LogisticRegressionCV\n",
    "from sklearn.naive_bayes import GaussianNB\n",
    "from sklearn.ensemble import RandomForestClassifier,GradientBoostingClassifier\n",
    "from sklearn.svm import SVC\n",
    "\n",
    "import matplotlib.pyplot as plt\n",
    "import seaborn as sns\n",
    "pd.options.display.max_colwidth = -1\n"
   ]
  },
  {
   "cell_type": "markdown",
   "metadata": {},
   "source": [
    "##### Ignore warning messages"
   ]
  },
  {
   "cell_type": "code",
   "execution_count": 2,
   "metadata": {
    "ExecuteTime": {
     "end_time": "2019-06-18T04:17:39.184488Z",
     "start_time": "2019-06-18T04:17:39.179764Z"
    }
   },
   "outputs": [],
   "source": [
    "if not sys.warnoptions:\n",
    "    import os, warnings\n",
    "    warnings.simplefilter(\"ignore\") # Change the filter in this process\n",
    "    os.environ[\"PYTHONWARNINGS\"] = \"default\" # Also affect subprocesses"
   ]
  },
  {
   "cell_type": "markdown",
   "metadata": {},
   "source": [
    "#### Unpickling necessary objects"
   ]
  },
  {
   "cell_type": "code",
   "execution_count": 3,
   "metadata": {
    "ExecuteTime": {
     "end_time": "2019-06-18T04:17:39.594007Z",
     "start_time": "2019-06-18T04:17:39.187301Z"
    }
   },
   "outputs": [
    {
     "name": "stdout",
     "output_type": "stream",
     "text": [
      "Loaded file from X_train.pkl\n",
      "Loaded file from y_train.pkl\n",
      "Loaded file from X_val.pkl\n",
      "Loaded file from y_val.pkl\n"
     ]
    }
   ],
   "source": [
    "X_train = pickle_from('../data/processed/X_train.pkl')\n",
    "y_train = pickle_from(\"../data/processed/y_train.pkl\")\n",
    "X_val = pickle_from('../data/processed/X_val.pkl')\n",
    "y_val = pickle_from('../data/processed/y_val.pkl')"
   ]
  },
  {
   "cell_type": "code",
   "execution_count": 56,
   "metadata": {
    "ExecuteTime": {
     "end_time": "2019-06-18T18:19:14.475632Z",
     "start_time": "2019-06-18T18:19:12.992271Z"
    }
   },
   "outputs": [
    {
     "name": "stdout",
     "output_type": "stream",
     "text": [
      "Loaded file from X_tr_val.pkl\n",
      "Loaded file from y_tr_val.pkl\n",
      "Loaded file from X_test.pkl\n",
      "Loaded file from y_test.pkl\n"
     ]
    }
   ],
   "source": []
  },
  {
   "cell_type": "markdown",
   "metadata": {},
   "source": [
    "#### Dictionary to save model performance"
   ]
  },
  {
   "cell_type": "code",
   "execution_count": 16,
   "metadata": {
    "ExecuteTime": {
     "end_time": "2019-06-18T17:32:40.175253Z",
     "start_time": "2019-06-18T17:32:40.172252Z"
    }
   },
   "outputs": [],
   "source": [
    "tr_performance = {}\n",
    "val_performance = {}\n",
    "\n"
   ]
  },
  {
   "cell_type": "markdown",
   "metadata": {},
   "source": [
    "# Binary Count Vectorizer"
   ]
  },
  {
   "cell_type": "code",
   "execution_count": 41,
   "metadata": {
    "ExecuteTime": {
     "end_time": "2019-06-14T14:12:02.158227Z",
     "start_time": "2019-06-14T14:12:01.034852Z"
    }
   },
   "outputs": [],
   "source": [
    "c_bin = CountVectorizer(tokenizer=lambda doc: doc,lowercase=False, binary = 'boolean')\n",
    "c_bin_vectorizer = c_bin.fit(X_train)"
   ]
  },
  {
   "cell_type": "code",
   "execution_count": 42,
   "metadata": {
    "ExecuteTime": {
     "end_time": "2019-06-14T14:12:04.717611Z",
     "start_time": "2019-06-14T14:12:02.906036Z"
    }
   },
   "outputs": [],
   "source": [
    "X_train_bin = c_bin_vectorizer.transform(X_train)\n",
    "X_train_bin = X_train_bin.toarray()\n",
    "X_val_bin = c_bin_vectorizer.transform(X_val)\n",
    "X_val_bin = X_val_bin.toarray()\n",
    "\n"
   ]
  },
  {
   "cell_type": "markdown",
   "metadata": {},
   "source": [
    "### Pickling binary count vectorizer"
   ]
  },
  {
   "cell_type": "code",
   "execution_count": 43,
   "metadata": {
    "ExecuteTime": {
     "end_time": "2019-06-14T14:12:12.942316Z",
     "start_time": "2019-06-14T14:12:04.781043Z"
    }
   },
   "outputs": [
    {
     "name": "stdout",
     "output_type": "stream",
     "text": [
      "Sucessfully saved to X_train_bin.pkl\n",
      "Sucessfully saved to X_val_bin.pkl\n"
     ]
    }
   ],
   "source": [
    "pickle_to(X_train_bin,'X_train_bin.pkl')\n",
    "pickle_to(X_val_bin,'X_val_bin.pkl')\n"
   ]
  },
  {
   "cell_type": "markdown",
   "metadata": {},
   "source": [
    "### Unpickling"
   ]
  },
  {
   "cell_type": "code",
   "execution_count": 6,
   "metadata": {
    "ExecuteTime": {
     "end_time": "2019-06-18T04:18:10.772576Z",
     "start_time": "2019-06-18T04:18:06.722507Z"
    }
   },
   "outputs": [
    {
     "name": "stdout",
     "output_type": "stream",
     "text": [
      "Loaded file from X_train_bin.pkl\n",
      "Loaded file from X_val_bin.pkl\n"
     ]
    }
   ],
   "source": [
    "X_train_bin = pickle_from('X_train_bin.pkl')\n",
    "X_val_bin = pickle_from('X_val_bin.pkl')\n",
    "\n"
   ]
  },
  {
   "cell_type": "markdown",
   "metadata": {},
   "source": [
    "## Naive Bayes"
   ]
  },
  {
   "cell_type": "code",
   "execution_count": 45,
   "metadata": {
    "ExecuteTime": {
     "end_time": "2019-06-14T14:12:19.636696Z",
     "start_time": "2019-06-14T14:12:19.623800Z"
    }
   },
   "outputs": [],
   "source": [
    "nb = GaussianNB()\n",
    "\n"
   ]
  },
  {
   "cell_type": "code",
   "execution_count": 46,
   "metadata": {
    "ExecuteTime": {
     "end_time": "2019-06-14T14:12:25.036778Z",
     "start_time": "2019-06-14T14:12:19.644426Z"
    }
   },
   "outputs": [
    {
     "data": {
      "text/plain": [
       "GaussianNB(priors=None, var_smoothing=1e-09)"
      ]
     },
     "execution_count": 46,
     "metadata": {},
     "output_type": "execute_result"
    }
   ],
   "source": [
    "nb.fit(X_train_bin,y_train)\n",
    "\n",
    "\n"
   ]
  },
  {
   "cell_type": "code",
   "execution_count": 47,
   "metadata": {
    "ExecuteTime": {
     "end_time": "2019-06-14T14:14:07.422446Z",
     "start_time": "2019-06-14T14:12:25.039648Z"
    }
   },
   "outputs": [
    {
     "name": "stdout",
     "output_type": "stream",
     "text": [
      "Accuracy on train: 0.8119180762044034 \n",
      " Accuracy on val: 0.7985677419354839\n"
     ]
    }
   ],
   "source": [
    "tr_accuracy = np.mean(cross_val_score(nb, X_train_bin, y_train,cv=10))\n",
    "val_accuracy = np.mean(cross_val_score(nb, X_val_bin, y_val,cv=10))\n",
    "print('Accuracy on train:', tr_accuracy,'\\n', 'Accuracy on val:', val_accuracy)\n",
    "\n",
    "\n"
   ]
  },
  {
   "cell_type": "code",
   "execution_count": 48,
   "metadata": {
    "ExecuteTime": {
     "end_time": "2019-06-14T14:14:07.429470Z",
     "start_time": "2019-06-14T14:14:07.425184Z"
    }
   },
   "outputs": [],
   "source": [
    "# Saving model performance to a dictionary\n",
    "tr_performance['nb'] = tr_accuracy\n",
    "val_performance['nb'] = val_accuracy\n"
   ]
  },
  {
   "cell_type": "markdown",
   "metadata": {},
   "source": [
    "## Random Forest"
   ]
  },
  {
   "cell_type": "code",
   "execution_count": 49,
   "metadata": {
    "ExecuteTime": {
     "end_time": "2019-06-14T14:14:52.878498Z",
     "start_time": "2019-06-14T14:14:46.949314Z"
    }
   },
   "outputs": [
    {
     "data": {
      "text/plain": [
       "RandomForestClassifier(bootstrap=True, class_weight=None, criterion='gini',\n",
       "            max_depth=None, max_features='auto', max_leaf_nodes=None,\n",
       "            min_impurity_decrease=0.0, min_impurity_split=None,\n",
       "            min_samples_leaf=1, min_samples_split=2,\n",
       "            min_weight_fraction_leaf=0.0, n_estimators=10, n_jobs=None,\n",
       "            oob_score=False, random_state=None, verbose=0,\n",
       "            warm_start=False)"
      ]
     },
     "execution_count": 49,
     "metadata": {},
     "output_type": "execute_result"
    }
   ],
   "source": [
    "rf = RandomForestClassifier()\n",
    "rf.fit(X_train_bin,y_train)\n",
    "\n",
    "\n"
   ]
  },
  {
   "cell_type": "code",
   "execution_count": 51,
   "metadata": {
    "ExecuteTime": {
     "end_time": "2019-06-14T14:17:28.764127Z",
     "start_time": "2019-06-14T14:16:11.677396Z"
    }
   },
   "outputs": [
    {
     "name": "stdout",
     "output_type": "stream",
     "text": [
      "Accuracy on train: 0.810594725045758 \n",
      " Accuracy on val: 0.767225806451613\n"
     ]
    }
   ],
   "source": [
    "tr_accuracy = np.mean(cross_val_score(rf, X_train_bin, y_train,cv=10))\n",
    "val_accuracy = np.mean(cross_val_score(rf, X_val_bin, y_val,cv=10))\n",
    "print('Accuracy on train:', tr_accuracy,'\\n', 'Accuracy on val:', val_accuracy)\n",
    "\n",
    "\n",
    "\n"
   ]
  },
  {
   "cell_type": "code",
   "execution_count": 52,
   "metadata": {
    "ExecuteTime": {
     "end_time": "2019-06-14T14:17:28.774392Z",
     "start_time": "2019-06-14T14:17:28.768492Z"
    }
   },
   "outputs": [],
   "source": [
    "# Saving model performance to a dictionary\n",
    "tr_performance['rf'] = tr_accuracy\n",
    "val_performance['rf'] = val_accuracy"
   ]
  },
  {
   "cell_type": "markdown",
   "metadata": {},
   "source": [
    "## Gradient Boosting"
   ]
  },
  {
   "cell_type": "code",
   "execution_count": 59,
   "metadata": {
    "ExecuteTime": {
     "end_time": "2019-06-14T15:04:22.211449Z",
     "start_time": "2019-06-14T15:04:22.207632Z"
    }
   },
   "outputs": [],
   "source": [
    "gb = GradientBoostingClassifier()"
   ]
  },
  {
   "cell_type": "code",
   "execution_count": 60,
   "metadata": {
    "ExecuteTime": {
     "end_time": "2019-06-14T16:16:35.595719Z",
     "start_time": "2019-06-14T15:04:22.886942Z"
    }
   },
   "outputs": [
    {
     "data": {
      "text/plain": [
       "GradientBoostingClassifier(criterion='friedman_mse', init=None,\n",
       "              learning_rate=0.1, loss='deviance', max_depth=3,\n",
       "              max_features=None, max_leaf_nodes=None,\n",
       "              min_impurity_decrease=0.0, min_impurity_split=None,\n",
       "              min_samples_leaf=1, min_samples_split=2,\n",
       "              min_weight_fraction_leaf=0.0, n_estimators=100,\n",
       "              n_iter_no_change=None, presort='auto', random_state=None,\n",
       "              subsample=1.0, tol=0.0001, validation_fraction=0.1,\n",
       "              verbose=0, warm_start=False)"
      ]
     },
     "execution_count": 60,
     "metadata": {},
     "output_type": "execute_result"
    }
   ],
   "source": [
    "gb.fit(X_train_bin,y_train)\n",
    "\n"
   ]
  },
  {
   "cell_type": "code",
   "execution_count": 61,
   "metadata": {
    "ExecuteTime": {
     "end_time": "2019-06-15T13:32:50.798609Z",
     "start_time": "2019-06-14T16:16:35.599007Z"
    }
   },
   "outputs": [
    {
     "name": "stdout",
     "output_type": "stream",
     "text": [
      "Accuracy on train: 0.8796119663756314 \n",
      " Accuracy on val: 0.8708064516129032\n"
     ]
    }
   ],
   "source": [
    "tr_accuracy = np.mean(cross_val_score(gb, X_train_bin, y_train,cv=10))\n",
    "val_accuracy = np.mean(cross_val_score(gb, X_val_bin, y_val,cv=10))\n",
    "print('Accuracy on train:', tr_accuracy,'\\n', 'Accuracy on val:', val_accuracy)\n",
    "\n",
    "\n",
    "\n",
    "\n"
   ]
  },
  {
   "cell_type": "code",
   "execution_count": 62,
   "metadata": {
    "ExecuteTime": {
     "end_time": "2019-06-15T13:32:50.831081Z",
     "start_time": "2019-06-15T13:32:50.813494Z"
    }
   },
   "outputs": [],
   "source": [
    "# Saving model performance to a dictionary\n",
    "tr_performance['gb'] = tr_accuracy\n",
    "val_performance['gb'] = val_accuracy"
   ]
  },
  {
   "cell_type": "markdown",
   "metadata": {
    "ExecuteTime": {
     "end_time": "2019-06-18T17:35:06.646319Z",
     "start_time": "2019-06-18T17:35:06.642005Z"
    }
   },
   "source": [
    "## SVM Classifier"
   ]
  },
  {
   "cell_type": "code",
   "execution_count": 7,
   "metadata": {
    "ExecuteTime": {
     "end_time": "2019-06-18T04:36:50.593633Z",
     "start_time": "2019-06-18T04:18:13.426158Z"
    }
   },
   "outputs": [
    {
     "data": {
      "text/plain": [
       "SVC(C=1.0, cache_size=200, class_weight=None, coef0=0.0,\n",
       "  decision_function_shape='ovr', degree=3, gamma='auto_deprecated',\n",
       "  kernel='rbf', max_iter=-1, probability=False, random_state=None,\n",
       "  shrinking=True, tol=0.001, verbose=False)"
      ]
     },
     "execution_count": 7,
     "metadata": {},
     "output_type": "execute_result"
    }
   ],
   "source": [
    "svm = SVC()\n",
    "svm.fit(X_train_bin,y_train)\n",
    "\n"
   ]
  },
  {
   "cell_type": "code",
   "execution_count": 8,
   "metadata": {
    "ExecuteTime": {
     "end_time": "2019-06-18T07:07:09.079831Z",
     "start_time": "2019-06-18T04:36:50.601694Z"
    }
   },
   "outputs": [],
   "source": [
    "tr_accuracy = np.mean(cross_val_score(svm, X_train_bin, y_train,cv=10))\n"
   ]
  },
  {
   "cell_type": "code",
   "execution_count": 9,
   "metadata": {
    "ExecuteTime": {
     "end_time": "2019-06-18T07:23:27.045012Z",
     "start_time": "2019-06-18T07:07:09.087130Z"
    }
   },
   "outputs": [
    {
     "name": "stdout",
     "output_type": "stream",
     "text": [
      "Accuracy on train: 0.5794765532632746 \n",
      " Accuracy on val: 0.510425806451613\n"
     ]
    }
   ],
   "source": [
    "val_accuracy = np.mean(cross_val_score(svm, X_val_bin, y_val,cv=10))\n",
    "print('Accuracy on train:', tr_accuracy,'\\n', 'Accuracy on val:', val_accuracy)\n",
    "\n",
    "\n",
    "\n",
    "\n"
   ]
  },
  {
   "cell_type": "code",
   "execution_count": 12,
   "metadata": {
    "ExecuteTime": {
     "end_time": "2019-06-18T13:41:57.353953Z",
     "start_time": "2019-06-18T13:41:57.348549Z"
    }
   },
   "outputs": [],
   "source": [
    "# Saving model performance to a dictionary\n",
    "tr_performance['svm'] = tr_accuracy\n",
    "val_performance['svm'] = val_accuracy\n"
   ]
  },
  {
   "cell_type": "markdown",
   "metadata": {},
   "source": [
    "## Logistic Regression"
   ]
  },
  {
   "cell_type": "code",
   "execution_count": 86,
   "metadata": {
    "ExecuteTime": {
     "end_time": "2019-06-18T22:28:17.709276Z",
     "start_time": "2019-06-18T22:25:55.638648Z"
    }
   },
   "outputs": [
    {
     "data": {
      "text/plain": [
       "LogisticRegressionCV(Cs=10, class_weight=None, cv='warn', dual=False,\n",
       "           fit_intercept=True, intercept_scaling=1.0, max_iter=1000,\n",
       "           multi_class='warn', n_jobs=None, penalty='l2',\n",
       "           random_state=None, refit=True, scoring='accuracy',\n",
       "           solver='lbfgs', tol=0.0001, verbose=0)"
      ]
     },
     "execution_count": 86,
     "metadata": {},
     "output_type": "execute_result"
    }
   ],
   "source": [
    "logreg= LogisticRegressionCV(scoring='accuracy',max_iter = 1000)\n",
    "logreg.fit(X_train_bin,y_train)\n",
    "\n",
    "\n"
   ]
  },
  {
   "cell_type": "code",
   "execution_count": 56,
   "metadata": {
    "ExecuteTime": {
     "end_time": "2019-06-14T15:01:25.222226Z",
     "start_time": "2019-06-14T14:38:03.153799Z"
    }
   },
   "outputs": [
    {
     "name": "stdout",
     "output_type": "stream",
     "text": [
      "Accuracy on train: 0.9071729647842564 \n",
      " Accuracy on val: 0.9068838709677418\n"
     ]
    }
   ],
   "source": [
    "tr_accuracy = np.mean(cross_val_score(logreg, X_train_bin, y_train,cv=10))\n",
    "val_accuracy = np.mean(cross_val_score(logreg, X_val_bin, y_val,cv=10))\n",
    "print('Accuracy on train:', tr_accuracy,'\\n', 'Accuracy on val:', val_accuracy)\n",
    "\n",
    "\n",
    "\n",
    "\n",
    "\n"
   ]
  },
  {
   "cell_type": "code",
   "execution_count": 57,
   "metadata": {
    "ExecuteTime": {
     "end_time": "2019-06-14T15:01:25.230606Z",
     "start_time": "2019-06-14T15:01:25.225847Z"
    }
   },
   "outputs": [],
   "source": [
    "# Saving model performance to a dictionary\n",
    "tr_performance['logreg'] = tr_accuracy\n",
    "val_performance['logreg'] = val_accuracy"
   ]
  },
  {
   "cell_type": "markdown",
   "metadata": {},
   "source": [
    "# Comparing model performance"
   ]
  },
  {
   "cell_type": "code",
   "execution_count": 27,
   "metadata": {
    "ExecuteTime": {
     "end_time": "2019-06-18T17:36:12.867754Z",
     "start_time": "2019-06-18T17:36:12.860054Z"
    }
   },
   "outputs": [
    {
     "data": {
      "text/plain": [
       "{'nb': 0.8119180762044034,\n",
       " 'rf': 0.810594725045758,\n",
       " 'gb': 0.8796119663756314,\n",
       " 'svm': 0.5794765532632746,\n",
       " 'logreg': 0.9071729647842564}"
      ]
     },
     "execution_count": 27,
     "metadata": {},
     "output_type": "execute_result"
    }
   ],
   "source": [
    "tr_performance"
   ]
  },
  {
   "cell_type": "code",
   "execution_count": 28,
   "metadata": {
    "ExecuteTime": {
     "end_time": "2019-06-18T17:36:15.488879Z",
     "start_time": "2019-06-18T17:36:15.481809Z"
    }
   },
   "outputs": [
    {
     "data": {
      "text/plain": [
       "{'nb': 0.7985677419354839,\n",
       " 'rf': 0.767225806451613,\n",
       " 'gb': 0.8708064516129032,\n",
       " 'svm': 0.510425806451613,\n",
       " 'logreg': 0.9068838709677418}"
      ]
     },
     "execution_count": 28,
     "metadata": {},
     "output_type": "execute_result"
    }
   ],
   "source": [
    "val_performance"
   ]
  },
  {
   "cell_type": "code",
   "execution_count": 29,
   "metadata": {
    "ExecuteTime": {
     "end_time": "2019-06-18T17:36:51.388348Z",
     "start_time": "2019-06-18T17:36:51.298144Z"
    }
   },
   "outputs": [],
   "source": [
    "performance = pd.DataFrame({'train_performance':pd.Series(tr_performance),'val_performance':pd.Series(val_performance)})\n",
    "performance['diff'] = performance.train_performance - performance.val_performance\n",
    "performance = performance.sort_values(by = ['val_performance'],ascending = False)"
   ]
  },
  {
   "cell_type": "code",
   "execution_count": 37,
   "metadata": {
    "ExecuteTime": {
     "end_time": "2019-06-18T18:11:21.543081Z",
     "start_time": "2019-06-18T18:11:21.528086Z"
    }
   },
   "outputs": [
    {
     "data": {
      "text/html": [
       "<div>\n",
       "<style scoped>\n",
       "    .dataframe tbody tr th:only-of-type {\n",
       "        vertical-align: middle;\n",
       "    }\n",
       "\n",
       "    .dataframe tbody tr th {\n",
       "        vertical-align: top;\n",
       "    }\n",
       "\n",
       "    .dataframe thead th {\n",
       "        text-align: right;\n",
       "    }\n",
       "</style>\n",
       "<table border=\"1\" class=\"dataframe\">\n",
       "  <thead>\n",
       "    <tr style=\"text-align: right;\">\n",
       "      <th></th>\n",
       "      <th>train_performance</th>\n",
       "      <th>val_performance</th>\n",
       "      <th>diff</th>\n",
       "      <th>model</th>\n",
       "    </tr>\n",
       "  </thead>\n",
       "  <tbody>\n",
       "    <tr>\n",
       "      <th>logreg</th>\n",
       "      <td>0.907173</td>\n",
       "      <td>0.906884</td>\n",
       "      <td>0.000289</td>\n",
       "      <td>Logistic Regression</td>\n",
       "    </tr>\n",
       "    <tr>\n",
       "      <th>gb</th>\n",
       "      <td>0.879612</td>\n",
       "      <td>0.870806</td>\n",
       "      <td>0.008806</td>\n",
       "      <td>Gradient Boosting</td>\n",
       "    </tr>\n",
       "    <tr>\n",
       "      <th>nb</th>\n",
       "      <td>0.811918</td>\n",
       "      <td>0.798568</td>\n",
       "      <td>0.013350</td>\n",
       "      <td>Naive Bayes</td>\n",
       "    </tr>\n",
       "    <tr>\n",
       "      <th>rf</th>\n",
       "      <td>0.810595</td>\n",
       "      <td>0.767226</td>\n",
       "      <td>0.043369</td>\n",
       "      <td>Random Forest</td>\n",
       "    </tr>\n",
       "    <tr>\n",
       "      <th>svm</th>\n",
       "      <td>0.579477</td>\n",
       "      <td>0.510426</td>\n",
       "      <td>0.069051</td>\n",
       "      <td>Support Vector Classifier</td>\n",
       "    </tr>\n",
       "  </tbody>\n",
       "</table>\n",
       "</div>"
      ],
      "text/plain": [
       "        train_performance  val_performance      diff  \\\n",
       "logreg  0.907173           0.906884         0.000289   \n",
       "gb      0.879612           0.870806         0.008806   \n",
       "nb      0.811918           0.798568         0.013350   \n",
       "rf      0.810595           0.767226         0.043369   \n",
       "svm     0.579477           0.510426         0.069051   \n",
       "\n",
       "                            model  \n",
       "logreg  Logistic Regression        \n",
       "gb      Gradient Boosting          \n",
       "nb      Naive Bayes                \n",
       "rf      Random Forest              \n",
       "svm     Support Vector Classifier  "
      ]
     },
     "execution_count": 37,
     "metadata": {},
     "output_type": "execute_result"
    }
   ],
   "source": [
    "# Add column with expanded model names\n",
    "performance['model'] = ['Logistic Regression', 'Gradient Boosting', 'Naive Bayes', 'Random Forest', 'Support Vector Classifier']\n",
    "performance"
   ]
  },
  {
   "cell_type": "markdown",
   "metadata": {},
   "source": [
    "## Saving model performances"
   ]
  },
  {
   "cell_type": "code",
   "execution_count": 38,
   "metadata": {
    "ExecuteTime": {
     "end_time": "2019-06-18T18:11:26.614604Z",
     "start_time": "2019-06-18T18:11:26.604548Z"
    }
   },
   "outputs": [
    {
     "name": "stdout",
     "output_type": "stream",
     "text": [
      "Sucessfully saved to performance.pkl\n",
      "Sucessfully saved to val_performance.pkl\n",
      "Sucessfully saved to tr_performance.pkl\n"
     ]
    }
   ],
   "source": [
    "pickle_to(performance,'performance.pkl')\n",
    "pickle_to(val_performance,'val_performance.pkl')\n",
    "pickle_to(tr_performance,'tr_performance.pkl')"
   ]
  },
  {
   "cell_type": "markdown",
   "metadata": {},
   "source": [
    "# Comparing model performances"
   ]
  },
  {
   "cell_type": "code",
   "execution_count": 61,
   "metadata": {
    "ExecuteTime": {
     "end_time": "2019-06-18T18:27:29.944561Z",
     "start_time": "2019-06-18T18:27:29.854001Z"
    }
   },
   "outputs": [
    {
     "data": {
      "text/html": [
       "<div>\n",
       "<style scoped>\n",
       "    .dataframe tbody tr th:only-of-type {\n",
       "        vertical-align: middle;\n",
       "    }\n",
       "\n",
       "    .dataframe tbody tr th {\n",
       "        vertical-align: top;\n",
       "    }\n",
       "\n",
       "    .dataframe thead th {\n",
       "        text-align: right;\n",
       "    }\n",
       "</style>\n",
       "<table border=\"1\" class=\"dataframe\">\n",
       "  <thead>\n",
       "    <tr style=\"text-align: right;\">\n",
       "      <th></th>\n",
       "      <th>train_performance</th>\n",
       "      <th>val_performance</th>\n",
       "      <th>diff</th>\n",
       "      <th>model</th>\n",
       "    </tr>\n",
       "  </thead>\n",
       "  <tbody>\n",
       "    <tr>\n",
       "      <th>logreg</th>\n",
       "      <td>0.907173</td>\n",
       "      <td>0.906884</td>\n",
       "      <td>0.000289</td>\n",
       "      <td>Logistic Regression</td>\n",
       "    </tr>\n",
       "    <tr>\n",
       "      <th>gb</th>\n",
       "      <td>0.879612</td>\n",
       "      <td>0.870806</td>\n",
       "      <td>0.008806</td>\n",
       "      <td>Gradient Boosting</td>\n",
       "    </tr>\n",
       "    <tr>\n",
       "      <th>nb</th>\n",
       "      <td>0.811918</td>\n",
       "      <td>0.798568</td>\n",
       "      <td>0.013350</td>\n",
       "      <td>Naive Bayes</td>\n",
       "    </tr>\n",
       "    <tr>\n",
       "      <th>rf</th>\n",
       "      <td>0.810595</td>\n",
       "      <td>0.767226</td>\n",
       "      <td>0.043369</td>\n",
       "      <td>Random Forest</td>\n",
       "    </tr>\n",
       "    <tr>\n",
       "      <th>svm</th>\n",
       "      <td>0.579477</td>\n",
       "      <td>0.510426</td>\n",
       "      <td>0.069051</td>\n",
       "      <td>Support Vector Classifier</td>\n",
       "    </tr>\n",
       "  </tbody>\n",
       "</table>\n",
       "</div>"
      ],
      "text/plain": [
       "        train_performance  val_performance      diff  \\\n",
       "logreg  0.907173           0.906884         0.000289   \n",
       "gb      0.879612           0.870806         0.008806   \n",
       "nb      0.811918           0.798568         0.013350   \n",
       "rf      0.810595           0.767226         0.043369   \n",
       "svm     0.579477           0.510426         0.069051   \n",
       "\n",
       "                            model  \n",
       "logreg  Logistic Regression        \n",
       "gb      Gradient Boosting          \n",
       "nb      Naive Bayes                \n",
       "rf      Random Forest              \n",
       "svm     Support Vector Classifier  "
      ]
     },
     "execution_count": 61,
     "metadata": {},
     "output_type": "execute_result"
    }
   ],
   "source": [
    "performance"
   ]
  },
  {
   "cell_type": "code",
   "execution_count": 106,
   "metadata": {
    "ExecuteTime": {
     "end_time": "2019-06-18T23:25:40.191804Z",
     "start_time": "2019-06-18T23:25:37.443144Z"
    },
    "scrolled": true
   },
   "outputs": [
    {
     "data": {
      "image/png": "[encoded data removed]",
      "text/plain": [
       "<Figure size 1130.4x595.44 with 1 Axes>"
      ]
     },
     "metadata": {},
     "output_type": "display_data"
    }
   ],
   "source": [
    "sns.set(rc={'figure.figsize':(15.7,8.27)})\n",
    "sns.set_style(style = 'white')\n",
    "values = np.array(performance['val_performance'])\n",
    "labels = np.array(performance['model'])\n",
    "clrs = ['red' if (x == 'Logistic Regression') else 'lightgray' for x in labels]\n",
    "ax = sns.barplot(y=performance['model'],x=performance['val_performance'],palette = clrs)\n",
    "ax.spines['right'].set_visible(False)\n",
    "ax.spines['top'].set_visible(False)\n",
    "ax.spines['left'].set_visible(False)\n",
    "ax.spines['bottom'].set_visible(False)\n",
    "ax.grid(False)\n",
    "ax.set_ylabel('')    \n",
    "ax.set_xlabel('')\n",
    "xlabels = [10,30,50,70,90]\n",
    "# ax.set_xticklabels(labels = xlabels , size = 25,weight = 'bold')\n",
    "ax.set_yticklabels(labels = labels,size =25,weight = 'bold')\n",
    "ax.set_xticklabels('')\n",
    "\n",
    "figure = ax.get_figure() \n",
    "figure.savefig('text.png',dpi = 500, bbox_inches = 'tight',transparent = True)\n",
    "\n",
    "\n",
    "plt.show();\n",
    "\n",
    "\n",
    "\n",
    "\n",
    "\n"
   ]
  },
  {
   "cell_type": "markdown",
   "metadata": {},
   "source": [
    "# Chosen Model - Logistic regression\n",
    "\n"
   ]
  },
  {
   "cell_type": "markdown",
   "metadata": {},
   "source": [
    "## Unpickling whole training set and test set"
   ]
  },
  {
   "cell_type": "code",
   "execution_count": null,
   "metadata": {},
   "outputs": [],
   "source": [
    "X_tr_val = pickle_from('../data/processed/X_tr_val.pkl')\n",
    "y_tr_val = pickle_from('../data/processed/y_tr_val.pkl')\n",
    "X_test = pickle_from('../data/processed/X_test.pkl')\n",
    "y_test = pickle_from('../data/processed/y_test.pkl')"
   ]
  },
  {
   "cell_type": "markdown",
   "metadata": {},
   "source": [
    "##"
   ]
  },
  {
   "cell_type": "code",
   "execution_count": null,
   "metadata": {},
   "outputs": [],
   "source": [
    "logreg= LogisticRegressionCV(scoring='accuracy',max_iter = 1000)\n",
    "logreg.fit(X_train_bin,y_train)\n",
    "\n",
    "\n"
   ]
  },
  {
   "cell_type": "code",
   "execution_count": 97,
   "metadata": {
    "ExecuteTime": {
     "end_time": "2019-06-18T22:33:49.107244Z",
     "start_time": "2019-06-18T22:33:47.609314Z"
    }
   },
   "outputs": [],
   "source": [
    "y_pred = logreg.predict(X_val_bin)\n",
    "cnf_matrix = metrics.confusion_matrix(y_val, y_pred)\n",
    "cm_normalized = cnf_matrix.astype('float')/cnf_matrix.sum(axis=1)[:,np.newaxis]\n",
    "\n",
    "\n",
    "\n"
   ]
  },
  {
   "cell_type": "code",
   "execution_count": 98,
   "metadata": {
    "ExecuteTime": {
     "end_time": "2019-06-18T22:33:53.377741Z",
     "start_time": "2019-06-18T22:33:52.580578Z"
    }
   },
   "outputs": [
    {
     "name": "stdout",
     "output_type": "stream",
     "text": [
      "ON VALIDATION SET\n"
     ]
    },
    {
     "data": {
      "image/png": "[encoded data removed]",
      "text/plain": [
       "<Figure size 842.4x595.44 with 2 Axes>"
      ]
     },
     "metadata": {},
     "output_type": "display_data"
    }
   ],
   "source": [
    "# name  of classes\n",
    "class_names=['Fake','Real'] \n",
    "\n",
    "# Set fig and axes \n",
    "fig, ax = plt.subplots()\n",
    "tick_marks = np.arange(len(class_names))\n",
    "plt.xticks(tick_marks, class_names)\n",
    "plt.yticks(tick_marks, class_names)\n",
    "\n",
    "# Create heatmap\n",
    "sns.heatmap(pd.DataFrame(cm_normalized), annot=True, cmap=\"YlGnBu\" ,fmt='g')\n",
    "ax.xaxis.set_label_position(\"top\")\n",
    "plt.tight_layout()\n",
    "plt.title('Normalized Confusion matrix', y=1.1)\n",
    "plt.ylabel('Actual',rotation=0)\n",
    "plt.xlabel('Predicted');\n",
    "\n",
    "print(\"ON VALIDATION SET\")\n",
    "\n"
   ]
  },
  {
   "cell_type": "code",
   "execution_count": null,
   "metadata": {},
   "outputs": [],
   "source": []
  }
 ],
 "metadata": {
  "kernelspec": {
   "display_name": "metis",
   "language": "python",
   "name": "metis"
  },
  "language_info": {
   "codemirror_mode": {
    "name": "ipython",
    "version": 3
   },
   "file_extension": ".py",
   "mimetype": "text/x-python",
   "name": "python",
   "nbconvert_exporter": "python",
   "pygments_lexer": "ipython3",
   "version": "3.6.8"
  },
  "toc": {
   "base_numbering": 1,
   "nav_menu": {},
   "number_sections": true,
   "sideBar": true,
   "skip_h1_title": false,
   "title_cell": "Table of Contents",
   "title_sidebar": "Contents",
   "toc_cell": false,
   "toc_position": {
    "height": "calc(100% - 180px)",
    "left": "10px",
    "top": "150px",
    "width": "244.7916717529297px"
   },
   "toc_section_display": true,
   "toc_window_display": true
  }
 },
 "nbformat": 4,
 "nbformat_minor": 2
}
