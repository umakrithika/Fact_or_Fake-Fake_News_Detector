{
 "cells": [
  {
   "cell_type": "markdown",
   "metadata": {},
   "source": [
    "# Explore\n",
    "\n",
    "###### Import necessary libraries"
   ]
  },
  {
   "cell_type": "code",
   "execution_count": 2,
   "metadata": {
    "ExecuteTime": {
     "end_time": "2019-06-25T21:39:24.749737Z",
     "start_time": "2019-06-25T21:39:21.703175Z"
    }
   },
   "outputs": [
    {
     "name": "stdout",
     "output_type": "stream",
     "text": [
      "importing Jupyter notebook from a_Abstract_Obtain.ipynb\n",
      "<class 'pandas.core.frame.DataFrame'>\n",
      "RangeIndex: 6335 entries, 0 to 6334\n",
      "Data columns (total 4 columns):\n",
      "Unnamed: 0    6335 non-null int64\n",
      "title         6335 non-null object\n",
      "text          6335 non-null object\n",
      "label         6335 non-null object\n",
      "dtypes: int64(1), object(3)\n",
      "memory usage: 198.0+ KB\n",
      "Sucessfully saved to ../data/raw/raw.pkl\n"
     ]
    },
    {
     "ename": "ModuleNotFoundError",
     "evalue": "No module named 'utils'",
     "output_type": "error",
     "traceback": [
      "\u001b[0;31m---------------------------------------------------------------------------\u001b[0m",
      "\u001b[0;31mModuleNotFoundError\u001b[0m                       Traceback (most recent call last)",
      "\u001b[0;32m<ipython-input-2-c2145426c100>\u001b[0m in \u001b[0;36m<module>\u001b[0;34m\u001b[0m\n\u001b[1;32m     10\u001b[0m \u001b[0;32mimport\u001b[0m \u001b[0mmatplotlib\u001b[0m\u001b[0;34m.\u001b[0m\u001b[0mpyplot\u001b[0m \u001b[0;32mas\u001b[0m \u001b[0mplt\u001b[0m\u001b[0;34m\u001b[0m\u001b[0;34m\u001b[0m\u001b[0m\n\u001b[1;32m     11\u001b[0m \u001b[0;32mimport\u001b[0m \u001b[0mseaborn\u001b[0m \u001b[0;32mas\u001b[0m \u001b[0msns\u001b[0m\u001b[0;34m\u001b[0m\u001b[0;34m\u001b[0m\u001b[0m\n\u001b[0;32m---> 12\u001b[0;31m \u001b[0;32mfrom\u001b[0m \u001b[0mutils\u001b[0m \u001b[0;32mimport\u001b[0m \u001b[0midentity\u001b[0m\u001b[0;34m\u001b[0m\u001b[0;34m\u001b[0m\u001b[0m\n\u001b[0m\u001b[1;32m     13\u001b[0m \u001b[0;32mfrom\u001b[0m \u001b[0mwordcloud\u001b[0m \u001b[0;32mimport\u001b[0m \u001b[0mWordCloud\u001b[0m\u001b[0;34m\u001b[0m\u001b[0;34m\u001b[0m\u001b[0m\n\u001b[1;32m     14\u001b[0m \u001b[0;32mimport\u001b[0m \u001b[0mre\u001b[0m\u001b[0;34m\u001b[0m\u001b[0;34m\u001b[0m\u001b[0m\n",
      "\u001b[0;31mModuleNotFoundError\u001b[0m: No module named 'utils'"
     ]
    }
   ],
   "source": [
    "from a_Abstract_Obtain import pickle_to, pickle_from\n",
    "from sklearn.model_selection import train_test_split\n",
    "import numpy as np\n",
    "import pandas as pd\n",
    "from sklearn.feature_extraction.text import TfidfVectorizer\n",
    "from sklearn.decomposition import TruncatedSVD\n",
    "from collections import Counter\n",
    "from collections import defaultdict\n",
    "import matplotlib.pyplot as plt\n",
    "import seaborn as sns\n",
    "from utils import identity\n",
    "from wordcloud import WordCloud\n",
    "import re\n",
    "\n",
    "# def identity(text):\n",
    "#     return text"
   ]
  },
  {
   "cell_type": "code",
   "execution_count": 2,
   "metadata": {
    "ExecuteTime": {
     "end_time": "2019-06-14T04:25:01.128729Z",
     "start_time": "2019-06-14T04:25:00.462823Z"
    }
   },
   "outputs": [
    {
     "name": "stdout",
     "output_type": "stream",
     "text": [
      "Loaded file from data.pkl\n",
      "Loaded file from text_data.pkl\n"
     ]
    }
   ],
   "source": [
    "data = pickle_from('data.pkl')\n",
    "text_data = pickle_from('text_data.pkl')\n",
    "\n"
   ]
  },
  {
   "cell_type": "markdown",
   "metadata": {},
   "source": [
    "## Distribution of fake and real news"
   ]
  },
  {
   "cell_type": "code",
   "execution_count": 3,
   "metadata": {
    "ExecuteTime": {
     "end_time": "2019-06-14T04:25:01.135986Z",
     "start_time": "2019-06-14T04:25:01.131218Z"
    }
   },
   "outputs": [],
   "source": [
    "def create_distribution(data):\n",
    "    return sns.countplot(x='numeric_label', data=data, palette='hls')"
   ]
  },
  {
   "cell_type": "code",
   "execution_count": 4,
   "metadata": {
    "ExecuteTime": {
     "end_time": "2019-06-14T04:25:01.339455Z",
     "start_time": "2019-06-14T04:25:01.138921Z"
    }
   },
   "outputs": [
    {
     "data": {
      "image/png": "[encoded data removed]",
      "text/plain": [
       "<Figure size 432x288 with 1 Axes>"
      ]
     },
     "metadata": {
      "needs_background": "light"
     },
     "output_type": "display_data"
    }
   ],
   "source": [
    "create_distribution(data);\n",
    "\n"
   ]
  },
  {
   "cell_type": "markdown",
   "metadata": {},
   "source": [
    "## Calculate average number of tokenized words in real vs fake"
   ]
  },
  {
   "cell_type": "code",
   "execution_count": 5,
   "metadata": {
    "ExecuteTime": {
     "end_time": "2019-06-14T04:25:01.637785Z",
     "start_time": "2019-06-14T04:25:01.619346Z"
    }
   },
   "outputs": [
    {
     "data": {
      "text/plain": [
       "((3123, 4), (3108, 4))"
      ]
     },
     "execution_count": 5,
     "metadata": {},
     "output_type": "execute_result"
    }
   ],
   "source": [
    "real = text_data[text_data['numeric_label']==0]\n",
    "fake = text_data[text_data['numeric_label']==1]\n",
    "real.shape, fake.shape"
   ]
  },
  {
   "cell_type": "code",
   "execution_count": 6,
   "metadata": {
    "ExecuteTime": {
     "end_time": "2019-06-14T04:25:02.011020Z",
     "start_time": "2019-06-14T04:25:02.004034Z"
    }
   },
   "outputs": [],
   "source": [
    "real_count = real.token_length.count()\n",
    "fake_count = fake.token_length.count()\n",
    "real_tot = real.token_length.sum()\n",
    "fake_tot = fake.token_length.sum()"
   ]
  },
  {
   "cell_type": "code",
   "execution_count": 7,
   "metadata": {
    "ExecuteTime": {
     "end_time": "2019-06-14T04:25:02.374465Z",
     "start_time": "2019-06-14T04:25:02.364116Z"
    }
   },
   "outputs": [],
   "source": [
    "real_avg = real_tot / real_count\n",
    "fake_avg = fake_tot / fake_count"
   ]
  },
  {
   "cell_type": "code",
   "execution_count": 8,
   "metadata": {
    "ExecuteTime": {
     "end_time": "2019-06-14T04:25:04.055540Z",
     "start_time": "2019-06-14T04:25:04.042606Z"
    }
   },
   "outputs": [
    {
     "name": "stdout",
     "output_type": "stream",
     "text": [
      "Average number of tokens in real data is :  365.69516490553957\n",
      "Average number of tokens in fake data is :  479.8490990990991\n"
     ]
    }
   ],
   "source": [
    "print('Average number of tokens in real data is : ', real_avg)\n",
    "print('Average number of tokens in fake data is : ', fake_avg)"
   ]
  },
  {
   "cell_type": "markdown",
   "metadata": {},
   "source": [
    "Though the number of articles in real and fake news is balanced, the average number of tokens in real and fake varies. This can mean that fake articles are using more words than real words."
   ]
  },
  {
   "cell_type": "markdown",
   "metadata": {},
   "source": [
    "## Split train, val and test sets"
   ]
  },
  {
   "cell_type": "code",
   "execution_count": 9,
   "metadata": {
    "ExecuteTime": {
     "end_time": "2019-06-14T04:25:05.634815Z",
     "start_time": "2019-06-14T04:25:05.630014Z"
    }
   },
   "outputs": [],
   "source": [
    "X = text_data['tokenized']\n",
    "y = np.array(text_data['numeric_label'])\n",
    "\n"
   ]
  },
  {
   "cell_type": "code",
   "execution_count": 10,
   "metadata": {
    "ExecuteTime": {
     "end_time": "2019-06-14T04:25:06.172189Z",
     "start_time": "2019-06-14T04:25:06.133790Z"
    }
   },
   "outputs": [],
   "source": [
    "X_tr_val, X_test, y_tr_val, y_test= train_test_split(X,y,random_state=42,test_size = 0.2)\n",
    "X_train, X_val, y_train, y_val = train_test_split(X_tr_val,y_tr_val,random_state=50,test_size = 0.25)"
   ]
  },
  {
   "cell_type": "code",
   "execution_count": 11,
   "metadata": {
    "ExecuteTime": {
     "end_time": "2019-06-14T04:25:06.559608Z",
     "start_time": "2019-06-14T04:25:06.548324Z"
    }
   },
   "outputs": [
    {
     "name": "stdout",
     "output_type": "stream",
     "text": [
      "(3738,)\n",
      "(1246,)\n",
      "(1247,)\n",
      "(6231,)\n"
     ]
    }
   ],
   "source": [
    "print(y_train.shape)\n",
    "print(y_val.shape)\n",
    "print(y_test.shape)\n",
    "print(y.shape)"
   ]
  },
  {
   "cell_type": "markdown",
   "metadata": {},
   "source": [
    "### Pickling train, val and test sets"
   ]
  },
  {
   "cell_type": "code",
   "execution_count": 12,
   "metadata": {
    "ExecuteTime": {
     "end_time": "2019-06-14T04:25:08.525437Z",
     "start_time": "2019-06-14T04:25:07.302530Z"
    }
   },
   "outputs": [
    {
     "name": "stdout",
     "output_type": "stream",
     "text": [
      "Sucessfully saved to X_train.pkl\n",
      "Sucessfully saved to X_val.pkl\n",
      "Sucessfully saved to X_test.pkl\n",
      "Sucessfully saved to X_tr_val.pkl\n"
     ]
    }
   ],
   "source": [
    "pickle_to(X_train,'X_train.pkl')\n",
    "pickle_to(X_val,'X_val.pkl')\n",
    "pickle_to(X_test,'X_test.pkl')\n",
    "pickle_to(X_tr_val,'X_tr_val.pkl')\n",
    "\n",
    "\n"
   ]
  },
  {
   "cell_type": "code",
   "execution_count": 13,
   "metadata": {
    "ExecuteTime": {
     "end_time": "2019-06-14T04:25:08.542247Z",
     "start_time": "2019-06-14T04:25:08.528475Z"
    }
   },
   "outputs": [
    {
     "name": "stdout",
     "output_type": "stream",
     "text": [
      "Sucessfully saved to y_train.pkl\n",
      "Sucessfully saved to y_val.pkl\n",
      "Sucessfully saved to y_test.pkl\n",
      "Sucessfully saved to y_tr_val.pkl\n"
     ]
    }
   ],
   "source": [
    "pickle_to(y_train,'y_train.pkl')\n",
    "pickle_to(y_val,'y_val.pkl')\n",
    "pickle_to(y_test,'y_test.pkl')\n",
    "pickle_to(y_tr_val,'y_tr_val.pkl')   \n",
    "\n"
   ]
  },
  {
   "cell_type": "code",
   "execution_count": null,
   "metadata": {},
   "outputs": [],
   "source": []
  },
  {
   "cell_type": "code",
   "execution_count": null,
   "metadata": {},
   "outputs": [],
   "source": []
  }
 ],
 "metadata": {
  "kernelspec": {
   "display_name": "metis",
   "language": "python",
   "name": "metis"
  },
  "language_info": {
   "codemirror_mode": {
    "name": "ipython",
    "version": 3
   },
   "file_extension": ".py",
   "mimetype": "text/x-python",
   "name": "python",
   "nbconvert_exporter": "python",
   "pygments_lexer": "ipython3",
   "version": "3.6.8"
  },
  "toc": {
   "base_numbering": 1,
   "nav_menu": {},
   "number_sections": true,
   "sideBar": true,
   "skip_h1_title": false,
   "title_cell": "Table of Contents",
   "title_sidebar": "Contents",
   "toc_cell": false,
   "toc_position": {
    "height": "calc(100% - 180px)",
    "left": "10px",
    "top": "150px",
    "width": "165px"
   },
   "toc_section_display": true,
   "toc_window_display": true
  }
 },
 "nbformat": 4,
 "nbformat_minor": 2
}
