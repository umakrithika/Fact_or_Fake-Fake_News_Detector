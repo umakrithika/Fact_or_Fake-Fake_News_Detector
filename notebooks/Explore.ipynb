{
 "cells": [
  {
   "cell_type": "markdown",
   "metadata": {},
   "source": [
    "# Explore\n",
    "\n",
    "###### Import necessary libraries"
   ]
  },
  {
   "cell_type": "code",
   "execution_count": 70,
   "metadata": {
    "ExecuteTime": {
     "end_time": "2019-06-27T18:24:56.543880Z",
     "start_time": "2019-06-27T18:24:56.538659Z"
    }
   },
   "outputs": [],
   "source": [
    "from utils import pickle_to, pickle_from, ignore_warnings\n",
    "from sklearn.model_selection import train_test_split\n",
    "import numpy as np\n",
    "import pandas as pd\n",
    "from collections import Counter\n",
    "from collections import defaultdict\n",
    "import matplotlib.pyplot as plt\n",
    "import seaborn as sns\n",
    "from wordcloud import WordCloud\n",
    "import re\n",
    "\n",
    "# def identity(text):\n",
    "#     return text"
   ]
  },
  {
   "cell_type": "code",
   "execution_count": 147,
   "metadata": {
    "ExecuteTime": {
     "end_time": "2019-06-27T18:40:01.117336Z",
     "start_time": "2019-06-27T18:40:00.519123Z"
    }
   },
   "outputs": [
    {
     "name": "stdout",
     "output_type": "stream",
     "text": [
      "Loaded file from ../data/interim/interim_token.pkl\n",
      "Loaded file from ../data/interim/interim_data.pkl\n"
     ]
    }
   ],
   "source": [
    "# Loading scrubed data\n",
    "interim_token = pickle_from('../data/interim/interim_token.pkl')\n",
    "interim_data = pickle_from('../data/interim/interim_data.pkl')\n",
    "\n",
    "\n",
    "\n"
   ]
  },
  {
   "cell_type": "code",
   "execution_count": 148,
   "metadata": {
    "ExecuteTime": {
     "end_time": "2019-06-27T18:40:01.136465Z",
     "start_time": "2019-06-27T18:40:01.120142Z"
    }
   },
   "outputs": [
    {
     "data": {
      "text/html": [
       "<div>\n",
       "<style scoped>\n",
       "    .dataframe tbody tr th:only-of-type {\n",
       "        vertical-align: middle;\n",
       "    }\n",
       "\n",
       "    .dataframe tbody tr th {\n",
       "        vertical-align: top;\n",
       "    }\n",
       "\n",
       "    .dataframe thead th {\n",
       "        text-align: right;\n",
       "    }\n",
       "</style>\n",
       "<table border=\"1\" class=\"dataframe\">\n",
       "  <thead>\n",
       "    <tr style=\"text-align: right;\">\n",
       "      <th></th>\n",
       "      <th>numeric_label</th>\n",
       "      <th>text</th>\n",
       "      <th>tokenized</th>\n",
       "    </tr>\n",
       "  </thead>\n",
       "  <tbody>\n",
       "    <tr>\n",
       "      <th>0</th>\n",
       "      <td>0</td>\n",
       "      <td>daniel greenfield   shillman journalism fellow...</td>\n",
       "      <td>[daniel, greenfield, shillman, journalism, fel...</td>\n",
       "    </tr>\n",
       "    <tr>\n",
       "      <th>1</th>\n",
       "      <td>0</td>\n",
       "      <td>google pinterest digg linkedin reddit stumbleu...</td>\n",
       "      <td>[google, pinterest, digg, linkedin, reddit, st...</td>\n",
       "    </tr>\n",
       "    <tr>\n",
       "      <th>2</th>\n",
       "      <td>1</td>\n",
       "      <td>secretary   state john   kerry said monday t...</td>\n",
       "      <td>[u, secretary, state, john, f, kerry, monday, ...</td>\n",
       "    </tr>\n",
       "    <tr>\n",
       "      <th>3</th>\n",
       "      <td>0</td>\n",
       "      <td>kaydee king kaydeeking november   the lesson ...</td>\n",
       "      <td>[kaydee, king, kaydeeking, november, lesson, t...</td>\n",
       "    </tr>\n",
       "    <tr>\n",
       "      <th>4</th>\n",
       "      <td>1</td>\n",
       "      <td>its primary day   new york and frontrunners hi...</td>\n",
       "      <td>[primary, day, new, york, frontrunners, hillar...</td>\n",
       "    </tr>\n",
       "  </tbody>\n",
       "</table>\n",
       "</div>"
      ],
      "text/plain": [
       "   numeric_label                                               text  \\\n",
       "0              0  daniel greenfield   shillman journalism fellow...   \n",
       "1              0  google pinterest digg linkedin reddit stumbleu...   \n",
       "2              1    secretary   state john   kerry said monday t...   \n",
       "3              0   kaydee king kaydeeking november   the lesson ...   \n",
       "4              1  its primary day   new york and frontrunners hi...   \n",
       "\n",
       "                                           tokenized  \n",
       "0  [daniel, greenfield, shillman, journalism, fel...  \n",
       "1  [google, pinterest, digg, linkedin, reddit, st...  \n",
       "2  [u, secretary, state, john, f, kerry, monday, ...  \n",
       "3  [kaydee, king, kaydeeking, november, lesson, t...  \n",
       "4  [primary, day, new, york, frontrunners, hillar...  "
      ]
     },
     "execution_count": 148,
     "metadata": {},
     "output_type": "execute_result"
    }
   ],
   "source": [
    "interim_token.head()"
   ]
  },
  {
   "cell_type": "code",
   "execution_count": 149,
   "metadata": {
    "ExecuteTime": {
     "end_time": "2019-06-27T18:40:01.560102Z",
     "start_time": "2019-06-27T18:40:01.546114Z"
    }
   },
   "outputs": [
    {
     "data": {
      "text/html": [
       "<div>\n",
       "<style scoped>\n",
       "    .dataframe tbody tr th:only-of-type {\n",
       "        vertical-align: middle;\n",
       "    }\n",
       "\n",
       "    .dataframe tbody tr th {\n",
       "        vertical-align: top;\n",
       "    }\n",
       "\n",
       "    .dataframe thead th {\n",
       "        text-align: right;\n",
       "    }\n",
       "</style>\n",
       "<table border=\"1\" class=\"dataframe\">\n",
       "  <thead>\n",
       "    <tr style=\"text-align: right;\">\n",
       "      <th></th>\n",
       "      <th>title</th>\n",
       "      <th>text</th>\n",
       "      <th>numeric_label</th>\n",
       "      <th>news</th>\n",
       "    </tr>\n",
       "  </thead>\n",
       "  <tbody>\n",
       "    <tr>\n",
       "      <th>0</th>\n",
       "      <td>You Can Smell Hillary’s Fear</td>\n",
       "      <td>Daniel Greenfield, a Shillman Journalism Fello...</td>\n",
       "      <td>0</td>\n",
       "      <td>You Can Smell Hillary’s Fear. Daniel Greenfiel...</td>\n",
       "    </tr>\n",
       "    <tr>\n",
       "      <th>1</th>\n",
       "      <td>Watch The Exact Moment Paul Ryan Committed Pol...</td>\n",
       "      <td>Google Pinterest Digg Linkedin Reddit Stumbleu...</td>\n",
       "      <td>0</td>\n",
       "      <td>Watch The Exact Moment Paul Ryan Committed Pol...</td>\n",
       "    </tr>\n",
       "    <tr>\n",
       "      <th>2</th>\n",
       "      <td>Kerry to go to Paris in gesture of sympathy</td>\n",
       "      <td>U.S. Secretary of State John F. Kerry said Mon...</td>\n",
       "      <td>1</td>\n",
       "      <td>Kerry to go to Paris in gesture of sympathy. U...</td>\n",
       "    </tr>\n",
       "    <tr>\n",
       "      <th>3</th>\n",
       "      <td>Bernie supporters on Twitter erupt in anger ag...</td>\n",
       "      <td>— Kaydee King (@KaydeeKing) November 9, 2016 T...</td>\n",
       "      <td>0</td>\n",
       "      <td>Bernie supporters on Twitter erupt in anger ag...</td>\n",
       "    </tr>\n",
       "    <tr>\n",
       "      <th>4</th>\n",
       "      <td>The Battle of New York: Why This Primary Matters</td>\n",
       "      <td>It's primary day in New York and front-runners...</td>\n",
       "      <td>1</td>\n",
       "      <td>The Battle of New York: Why This Primary Matte...</td>\n",
       "    </tr>\n",
       "  </tbody>\n",
       "</table>\n",
       "</div>"
      ],
      "text/plain": [
       "                                               title  \\\n",
       "0                       You Can Smell Hillary’s Fear   \n",
       "1  Watch The Exact Moment Paul Ryan Committed Pol...   \n",
       "2        Kerry to go to Paris in gesture of sympathy   \n",
       "3  Bernie supporters on Twitter erupt in anger ag...   \n",
       "4   The Battle of New York: Why This Primary Matters   \n",
       "\n",
       "                                                text  numeric_label  \\\n",
       "0  Daniel Greenfield, a Shillman Journalism Fello...              0   \n",
       "1  Google Pinterest Digg Linkedin Reddit Stumbleu...              0   \n",
       "2  U.S. Secretary of State John F. Kerry said Mon...              1   \n",
       "3  — Kaydee King (@KaydeeKing) November 9, 2016 T...              0   \n",
       "4  It's primary day in New York and front-runners...              1   \n",
       "\n",
       "                                                news  \n",
       "0  You Can Smell Hillary’s Fear. Daniel Greenfiel...  \n",
       "1  Watch The Exact Moment Paul Ryan Committed Pol...  \n",
       "2  Kerry to go to Paris in gesture of sympathy. U...  \n",
       "3  Bernie supporters on Twitter erupt in anger ag...  \n",
       "4  The Battle of New York: Why This Primary Matte...  "
      ]
     },
     "execution_count": 149,
     "metadata": {},
     "output_type": "execute_result"
    }
   ],
   "source": [
    "interim_data.head()"
   ]
  },
  {
   "cell_type": "markdown",
   "metadata": {},
   "source": [
    "## Distribution of fake and real news"
   ]
  },
  {
   "cell_type": "code",
   "execution_count": 150,
   "metadata": {
    "ExecuteTime": {
     "end_time": "2019-06-27T18:40:02.540082Z",
     "start_time": "2019-06-27T18:40:02.533910Z"
    }
   },
   "outputs": [],
   "source": [
    "def create_distribution(data):\n",
    "    return sns.countplot(x='numeric_label', data=data, palette='hls')"
   ]
  },
  {
   "cell_type": "code",
   "execution_count": 151,
   "metadata": {
    "ExecuteTime": {
     "end_time": "2019-06-27T18:40:03.067047Z",
     "start_time": "2019-06-27T18:40:02.884504Z"
    }
   },
   "outputs": [
    {
     "data": {
      "image/png": "[encoded data removed]",
      "text/plain": [
       "<Figure size 432x288 with 1 Axes>"
      ]
     },
     "metadata": {
      "needs_background": "light"
     },
     "output_type": "display_data"
    }
   ],
   "source": [
    "create_distribution(interim_data);\n",
    "\n"
   ]
  },
  {
   "cell_type": "markdown",
   "metadata": {},
   "source": [
    "The dataset is a balanced one. As the model is built to be its highest degree of correctness and as the data is balanced, the chosen performance metric is accuracy."
   ]
  },
  {
   "cell_type": "markdown",
   "metadata": {},
   "source": [
    "## Calculate average number of tokenized words in real vs fake"
   ]
  },
  {
   "cell_type": "code",
   "execution_count": 152,
   "metadata": {
    "ExecuteTime": {
     "end_time": "2019-06-27T18:40:03.971552Z",
     "start_time": "2019-06-27T18:40:03.959219Z"
    }
   },
   "outputs": [
    {
     "data": {
      "text/plain": [
       "((3123, 4), (3108, 4))"
      ]
     },
     "execution_count": 152,
     "metadata": {},
     "output_type": "execute_result"
    }
   ],
   "source": [
    "real = interim_data[interim_data['numeric_label']==0]\n",
    "fake = interim_data[interim_data['numeric_label']==1]\n",
    "real.shape, fake.shape"
   ]
  },
  {
   "cell_type": "code",
   "execution_count": 153,
   "metadata": {
    "ExecuteTime": {
     "end_time": "2019-06-27T18:40:04.372656Z",
     "start_time": "2019-06-27T18:40:04.359305Z"
    }
   },
   "outputs": [
    {
     "data": {
      "text/html": [
       "<div>\n",
       "<style scoped>\n",
       "    .dataframe tbody tr th:only-of-type {\n",
       "        vertical-align: middle;\n",
       "    }\n",
       "\n",
       "    .dataframe tbody tr th {\n",
       "        vertical-align: top;\n",
       "    }\n",
       "\n",
       "    .dataframe thead th {\n",
       "        text-align: right;\n",
       "    }\n",
       "</style>\n",
       "<table border=\"1\" class=\"dataframe\">\n",
       "  <thead>\n",
       "    <tr style=\"text-align: right;\">\n",
       "      <th></th>\n",
       "      <th>title</th>\n",
       "      <th>text</th>\n",
       "      <th>numeric_label</th>\n",
       "      <th>news</th>\n",
       "    </tr>\n",
       "  </thead>\n",
       "  <tbody>\n",
       "    <tr>\n",
       "      <th>0</th>\n",
       "      <td>You Can Smell Hillary’s Fear</td>\n",
       "      <td>Daniel Greenfield, a Shillman Journalism Fello...</td>\n",
       "      <td>0</td>\n",
       "      <td>You Can Smell Hillary’s Fear. Daniel Greenfiel...</td>\n",
       "    </tr>\n",
       "    <tr>\n",
       "      <th>1</th>\n",
       "      <td>Watch The Exact Moment Paul Ryan Committed Pol...</td>\n",
       "      <td>Google Pinterest Digg Linkedin Reddit Stumbleu...</td>\n",
       "      <td>0</td>\n",
       "      <td>Watch The Exact Moment Paul Ryan Committed Pol...</td>\n",
       "    </tr>\n",
       "    <tr>\n",
       "      <th>3</th>\n",
       "      <td>Bernie supporters on Twitter erupt in anger ag...</td>\n",
       "      <td>— Kaydee King (@KaydeeKing) November 9, 2016 T...</td>\n",
       "      <td>0</td>\n",
       "      <td>Bernie supporters on Twitter erupt in anger ag...</td>\n",
       "    </tr>\n",
       "    <tr>\n",
       "      <th>5</th>\n",
       "      <td>Tehran, USA</td>\n",
       "      <td>\\nI’m not an immigrant, but my grandparents ...</td>\n",
       "      <td>0</td>\n",
       "      <td>Tehran, USA.   \\nI’m not an immigrant, but my ...</td>\n",
       "    </tr>\n",
       "    <tr>\n",
       "      <th>6</th>\n",
       "      <td>Girl Horrified At What She Watches Boyfriend D...</td>\n",
       "      <td>Share This Baylee Luciani (left), Screenshot o...</td>\n",
       "      <td>0</td>\n",
       "      <td>Girl Horrified At What She Watches Boyfriend D...</td>\n",
       "    </tr>\n",
       "  </tbody>\n",
       "</table>\n",
       "</div>"
      ],
      "text/plain": [
       "                                               title  \\\n",
       "0                       You Can Smell Hillary’s Fear   \n",
       "1  Watch The Exact Moment Paul Ryan Committed Pol...   \n",
       "3  Bernie supporters on Twitter erupt in anger ag...   \n",
       "5                                        Tehran, USA   \n",
       "6  Girl Horrified At What She Watches Boyfriend D...   \n",
       "\n",
       "                                                text  numeric_label  \\\n",
       "0  Daniel Greenfield, a Shillman Journalism Fello...              0   \n",
       "1  Google Pinterest Digg Linkedin Reddit Stumbleu...              0   \n",
       "3  — Kaydee King (@KaydeeKing) November 9, 2016 T...              0   \n",
       "5    \\nI’m not an immigrant, but my grandparents ...              0   \n",
       "6  Share This Baylee Luciani (left), Screenshot o...              0   \n",
       "\n",
       "                                                news  \n",
       "0  You Can Smell Hillary’s Fear. Daniel Greenfiel...  \n",
       "1  Watch The Exact Moment Paul Ryan Committed Pol...  \n",
       "3  Bernie supporters on Twitter erupt in anger ag...  \n",
       "5  Tehran, USA.   \\nI’m not an immigrant, but my ...  \n",
       "6  Girl Horrified At What She Watches Boyfriend D...  "
      ]
     },
     "execution_count": 153,
     "metadata": {},
     "output_type": "execute_result"
    }
   ],
   "source": [
    "real.head()"
   ]
  },
  {
   "cell_type": "code",
   "execution_count": 154,
   "metadata": {
    "ExecuteTime": {
     "end_time": "2019-06-27T18:40:05.417206Z",
     "start_time": "2019-06-27T18:40:04.777713Z"
    }
   },
   "outputs": [],
   "source": [
    "# Total number of words in each artcile in real and fake news data\n",
    "\n",
    "real['total_words'] = [len(x.split()) for x in real['text'].tolist()]\n",
    "fake['total_words'] = [len(x.split()) for x in fake['text'].tolist()]\n"
   ]
  },
  {
   "cell_type": "code",
   "execution_count": 155,
   "metadata": {
    "ExecuteTime": {
     "end_time": "2019-06-27T18:40:05.432741Z",
     "start_time": "2019-06-27T18:40:05.419392Z"
    }
   },
   "outputs": [
    {
     "data": {
      "text/html": [
       "<div>\n",
       "<style scoped>\n",
       "    .dataframe tbody tr th:only-of-type {\n",
       "        vertical-align: middle;\n",
       "    }\n",
       "\n",
       "    .dataframe tbody tr th {\n",
       "        vertical-align: top;\n",
       "    }\n",
       "\n",
       "    .dataframe thead th {\n",
       "        text-align: right;\n",
       "    }\n",
       "</style>\n",
       "<table border=\"1\" class=\"dataframe\">\n",
       "  <thead>\n",
       "    <tr style=\"text-align: right;\">\n",
       "      <th></th>\n",
       "      <th>title</th>\n",
       "      <th>text</th>\n",
       "      <th>numeric_label</th>\n",
       "      <th>news</th>\n",
       "      <th>total_words</th>\n",
       "    </tr>\n",
       "  </thead>\n",
       "  <tbody>\n",
       "    <tr>\n",
       "      <th>0</th>\n",
       "      <td>You Can Smell Hillary’s Fear</td>\n",
       "      <td>Daniel Greenfield, a Shillman Journalism Fello...</td>\n",
       "      <td>0</td>\n",
       "      <td>You Can Smell Hillary’s Fear. Daniel Greenfiel...</td>\n",
       "      <td>1296</td>\n",
       "    </tr>\n",
       "    <tr>\n",
       "      <th>1</th>\n",
       "      <td>Watch The Exact Moment Paul Ryan Committed Pol...</td>\n",
       "      <td>Google Pinterest Digg Linkedin Reddit Stumbleu...</td>\n",
       "      <td>0</td>\n",
       "      <td>Watch The Exact Moment Paul Ryan Committed Pol...</td>\n",
       "      <td>446</td>\n",
       "    </tr>\n",
       "    <tr>\n",
       "      <th>3</th>\n",
       "      <td>Bernie supporters on Twitter erupt in anger ag...</td>\n",
       "      <td>— Kaydee King (@KaydeeKing) November 9, 2016 T...</td>\n",
       "      <td>0</td>\n",
       "      <td>Bernie supporters on Twitter erupt in anger ag...</td>\n",
       "      <td>404</td>\n",
       "    </tr>\n",
       "    <tr>\n",
       "      <th>5</th>\n",
       "      <td>Tehran, USA</td>\n",
       "      <td>\\nI’m not an immigrant, but my grandparents ...</td>\n",
       "      <td>0</td>\n",
       "      <td>Tehran, USA.   \\nI’m not an immigrant, but my ...</td>\n",
       "      <td>2346</td>\n",
       "    </tr>\n",
       "    <tr>\n",
       "      <th>6</th>\n",
       "      <td>Girl Horrified At What She Watches Boyfriend D...</td>\n",
       "      <td>Share This Baylee Luciani (left), Screenshot o...</td>\n",
       "      <td>0</td>\n",
       "      <td>Girl Horrified At What She Watches Boyfriend D...</td>\n",
       "      <td>553</td>\n",
       "    </tr>\n",
       "  </tbody>\n",
       "</table>\n",
       "</div>"
      ],
      "text/plain": [
       "                                               title  \\\n",
       "0                       You Can Smell Hillary’s Fear   \n",
       "1  Watch The Exact Moment Paul Ryan Committed Pol...   \n",
       "3  Bernie supporters on Twitter erupt in anger ag...   \n",
       "5                                        Tehran, USA   \n",
       "6  Girl Horrified At What She Watches Boyfriend D...   \n",
       "\n",
       "                                                text  numeric_label  \\\n",
       "0  Daniel Greenfield, a Shillman Journalism Fello...              0   \n",
       "1  Google Pinterest Digg Linkedin Reddit Stumbleu...              0   \n",
       "3  — Kaydee King (@KaydeeKing) November 9, 2016 T...              0   \n",
       "5    \\nI’m not an immigrant, but my grandparents ...              0   \n",
       "6  Share This Baylee Luciani (left), Screenshot o...              0   \n",
       "\n",
       "                                                news  total_words  \n",
       "0  You Can Smell Hillary’s Fear. Daniel Greenfiel...         1296  \n",
       "1  Watch The Exact Moment Paul Ryan Committed Pol...          446  \n",
       "3  Bernie supporters on Twitter erupt in anger ag...          404  \n",
       "5  Tehran, USA.   \\nI’m not an immigrant, but my ...         2346  \n",
       "6  Girl Horrified At What She Watches Boyfriend D...          553  "
      ]
     },
     "execution_count": 155,
     "metadata": {},
     "output_type": "execute_result"
    }
   ],
   "source": [
    "real.head()"
   ]
  },
  {
   "cell_type": "code",
   "execution_count": 156,
   "metadata": {
    "ExecuteTime": {
     "end_time": "2019-06-27T18:40:05.559295Z",
     "start_time": "2019-06-27T18:40:05.554109Z"
    }
   },
   "outputs": [],
   "source": [
    "# Total number of words in real and fake news data\n",
    "real_word_count = real.total_words.sum()\n",
    "fake_word_count = real.total_words.sum()\n"
   ]
  },
  {
   "cell_type": "code",
   "execution_count": 157,
   "metadata": {
    "ExecuteTime": {
     "end_time": "2019-06-27T18:40:05.988969Z",
     "start_time": "2019-06-27T18:40:05.984667Z"
    }
   },
   "outputs": [],
   "source": [
    "# Total number of articles in real and fake data\n",
    "real_article_count = real.text.count()\n",
    "fake_article_count = fake.text.count()\n",
    "\n"
   ]
  },
  {
   "cell_type": "code",
   "execution_count": 158,
   "metadata": {
    "ExecuteTime": {
     "end_time": "2019-06-27T18:40:06.352996Z",
     "start_time": "2019-06-27T18:40:06.348494Z"
    }
   },
   "outputs": [],
   "source": [
    "# Getting average number of words in a sentence in real and fake data\n",
    "real_avg = real_word_count / real_article_count\n",
    "fake_avg = fake_word_count / fake_article_count"
   ]
  },
  {
   "cell_type": "code",
   "execution_count": 159,
   "metadata": {
    "ExecuteTime": {
     "end_time": "2019-06-27T18:40:06.757625Z",
     "start_time": "2019-06-27T18:40:06.750150Z"
    }
   },
   "outputs": [
    {
     "name": "stdout",
     "output_type": "stream",
     "text": [
      "Average number of tokens in real data is :  668.6871597822607\n",
      "Average number of tokens in fake data is :  671.9144144144144\n"
     ]
    }
   ],
   "source": [
    "print('Average number of tokens in real data is : ', real_avg)\n",
    "print('Average number of tokens in fake data is : ', fake_avg)"
   ]
  },
  {
   "cell_type": "markdown",
   "metadata": {},
   "source": [
    "Though the number of articles in real and fake news is balanced, the average number of tokens in real and fake varies. This can mean that fake articles are using more words than real words."
   ]
  },
  {
   "cell_type": "markdown",
   "metadata": {},
   "source": [
    "## Split train, val and test sets"
   ]
  },
  {
   "cell_type": "code",
   "execution_count": 160,
   "metadata": {
    "ExecuteTime": {
     "end_time": "2019-06-27T18:40:09.442773Z",
     "start_time": "2019-06-27T18:40:09.434914Z"
    }
   },
   "outputs": [],
   "source": [
    "X = interim_token['tokenized']\n",
    "y = np.array(interim_token['numeric_label'])\n",
    "\n"
   ]
  },
  {
   "cell_type": "code",
   "execution_count": 161,
   "metadata": {
    "ExecuteTime": {
     "end_time": "2019-06-27T18:40:15.767405Z",
     "start_time": "2019-06-27T18:40:15.754343Z"
    }
   },
   "outputs": [],
   "source": [
    "X_tr_val, X_test, y_tr_val, y_test= train_test_split(X,y,random_state=42,test_size = 0.2)\n",
    "X_train, X_val, y_train, y_val = train_test_split(X_tr_val,y_tr_val,random_state=50,test_size = 0.25)"
   ]
  },
  {
   "cell_type": "code",
   "execution_count": 162,
   "metadata": {
    "ExecuteTime": {
     "end_time": "2019-06-27T18:40:16.165357Z",
     "start_time": "2019-06-27T18:40:16.156615Z"
    }
   },
   "outputs": [
    {
     "name": "stdout",
     "output_type": "stream",
     "text": [
      "(3738,)\n",
      "(1246,)\n",
      "(1247,)\n",
      "(6231,)\n"
     ]
    }
   ],
   "source": [
    "print(y_train.shape)\n",
    "print(y_val.shape)\n",
    "print(y_test.shape)\n",
    "print(y.shape)"
   ]
  },
  {
   "cell_type": "markdown",
   "metadata": {},
   "source": [
    "### Pickling train, val and test sets"
   ]
  },
  {
   "cell_type": "code",
   "execution_count": 163,
   "metadata": {
    "ExecuteTime": {
     "end_time": "2019-06-27T18:40:41.972915Z",
     "start_time": "2019-06-27T18:40:40.558871Z"
    }
   },
   "outputs": [
    {
     "name": "stdout",
     "output_type": "stream",
     "text": [
      "Sucessfully saved to ../data/processed/X_train.pkl\n",
      "Sucessfully saved to ../data/processed/X_val.pkl\n",
      "Sucessfully saved to ../data/processed/X_test.pkl\n",
      "Sucessfully saved to ../data/processed/X_tr_val.pkl\n"
     ]
    }
   ],
   "source": [
    "pickle_to(X_train,'../data/processed/X_train.pkl')\n",
    "pickle_to(X_val,'../data/processed/X_val.pkl')\n",
    "pickle_to(X_test,'../data/processed/X_test.pkl')\n",
    "pickle_to(X_tr_val,'../data/processed/X_tr_val.pkl')\n",
    "\n",
    "\n"
   ]
  },
  {
   "cell_type": "code",
   "execution_count": 164,
   "metadata": {
    "ExecuteTime": {
     "end_time": "2019-06-27T18:40:48.116444Z",
     "start_time": "2019-06-27T18:40:48.107242Z"
    }
   },
   "outputs": [
    {
     "name": "stdout",
     "output_type": "stream",
     "text": [
      "Sucessfully saved to ../data/processed/y_train.pkl\n",
      "Sucessfully saved to ../data/processed/y_val.pkl\n",
      "Sucessfully saved to ../data/processed/y_test.pkl\n",
      "Sucessfully saved to ../data/processed/y_tr_val.pkl\n"
     ]
    }
   ],
   "source": [
    "pickle_to(y_train,'../data/processed/y_train.pkl')\n",
    "pickle_to(y_val,'../data/processed/y_val.pkl')\n",
    "pickle_to(y_test,'../data/processed/y_test.pkl')\n",
    "pickle_to(y_tr_val,'../data/processed/y_tr_val.pkl')   \n",
    "\n"
   ]
  },
  {
   "cell_type": "code",
   "execution_count": null,
   "metadata": {},
   "outputs": [],
   "source": []
  },
  {
   "cell_type": "code",
   "execution_count": null,
   "metadata": {},
   "outputs": [],
   "source": []
  }
 ],
 "metadata": {
  "kernelspec": {
   "display_name": "metis",
   "language": "python",
   "name": "metis"
  },
  "language_info": {
   "codemirror_mode": {
    "name": "ipython",
    "version": 3
   },
   "file_extension": ".py",
   "mimetype": "text/x-python",
   "name": "python",
   "nbconvert_exporter": "python",
   "pygments_lexer": "ipython3",
   "version": "3.6.8"
  },
  "toc": {
   "base_numbering": 1,
   "nav_menu": {},
   "number_sections": true,
   "sideBar": true,
   "skip_h1_title": false,
   "title_cell": "Table of Contents",
   "title_sidebar": "Contents",
   "toc_cell": false,
   "toc_position": {
    "height": "calc(100% - 180px)",
    "left": "10px",
    "top": "150px",
    "width": "165px"
   },
   "toc_section_display": true,
   "toc_window_display": true
  }
 },
 "nbformat": 4,
 "nbformat_minor": 2
}
